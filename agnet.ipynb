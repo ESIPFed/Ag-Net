{
  "nbformat": 4,
  "nbformat_minor": 0,
  "metadata": {
    "colab": {
      "name": "Untitled9.ipynb",
      "version": "0.3.2",
      "provenance": [],
      "collapsed_sections": []
    },
    "kernelspec": {
      "name": "python3",
      "display_name": "Python 3"
    },
    "accelerator": "GPU"
  },
  "cells": [
    {
      "cell_type": "code",
      "metadata": {
        "id": "3yBQKnAfmY1U",
        "colab_type": "code",
        "outputId": "8bc087e9-5e8b-45d9-8388-bf3c39c3261d",
        "colab": {
          "base_uri": "https://localhost:8080/",
          "height": 35
        }
      },
      "source": [
        "from google.colab import drive\n",
        "drive.mount('/content/drive')"
      ],
      "execution_count": 77,
      "outputs": [
        {
          "output_type": "stream",
          "text": [
            "Drive already mounted at /content/drive; to attempt to forcibly remount, call drive.mount(\"/content/drive\", force_remount=True).\n"
          ],
          "name": "stdout"
        }
      ]
    },
    {
      "cell_type": "code",
      "metadata": {
        "id": "yNre1WZTmm4L",
        "colab_type": "code",
        "colab": {}
      },
      "source": [
        "import os\n",
        "import random\n",
        "import pandas as pd\n",
        "import numpy as np\n",
        "import matplotlib.pyplot as plt\n",
        "plt.style.use(\"ggplot\")\n",
        "%matplotlib inline\n",
        "\n",
        "from itertools import chain\n",
        "from skimage.io import imread, imshow, concatenate_images\n",
        "from skimage.transform import resize\n",
        "from skimage.morphology import label\n",
        "from sklearn.model_selection import train_test_split\n",
        "\n",
        "import tensorflow as tf\n",
        "\n",
        "from keras.models import Model, load_model\n",
        "from keras.layers import Input, BatchNormalization, Activation, Dense, Dropout,Lambda\n",
        "from keras.layers.core import Lambda, RepeatVector, Reshape\n",
        "from keras.layers.convolutional import Conv2D, Conv2DTranspose\n",
        "from keras.layers.pooling import MaxPooling2D, GlobalMaxPool2D\n",
        "from keras.layers.merge import concatenate, add\n",
        "from keras.callbacks import EarlyStopping, ModelCheckpoint, ReduceLROnPlateau\n",
        "from keras.optimizers import Adam,SGD\n",
        "from keras.preprocessing.image import ImageDataGenerator, array_to_img, img_to_array, load_img\n",
        "from keras.layers import LeakyReLU\n",
        "\n"
      ],
      "execution_count": 0,
      "outputs": []
    },
    {
      "cell_type": "code",
      "metadata": {
        "id": "ehP1JPEfnKw-",
        "colab_type": "code",
        "outputId": "d9c80e02-0bfb-4984-e855-512bd4dbad33",
        "colab": {
          "base_uri": "https://localhost:8080/",
          "height": 52
        }
      },
      "source": [
        "im_width = 128\n",
        "im_height = 128\n",
        "border = 5\n",
        "path_train_input = '/content/drive/My Drive/Ag-Net-Dataset-master/input/'\n",
        "path_train_output = '/content/drive/My Drive/Ag-Net-Dataset-master/target/'\n",
        "\n",
        "#ids_in=[]\n",
        "#ids_out=[]\n",
        "\n",
        "\n",
        "ids = next(os.walk(path_train_output))[2]\n",
        "print(len(ids))\n",
        "\n",
        "#for id_ in ids:\n",
        "  #for i in range(1,8):\n",
        "    #ids_in.append(path_train_input + 'lc8' + id_[3:-4] + '_' + str(i) + '.tif')\n",
        "    #ids_out.append(path_train_output + id_)\n",
        "    \n",
        "\n",
        "from random import shuffle\n",
        "\n",
        "#c = list(zip(ids_in, ids_out))\n",
        "\n",
        "shuffle(ids)\n",
        "\n",
        "#ids_in,ids_out=zip(*c)\n",
        "\n",
        "train_ids = ids[0:1500]\n",
        "valid_ids = ids[1500:]\n",
        "\n",
        "#valid_ids_out = ids_out[0:int(0.15*len(ids_out))]\n",
        "#train_ids_out = ids_out[int(0.15*len(ids_out)):]\"\"\"\"\n",
        "\n",
        "print(len(train_ids))\n",
        "    \n"
      ],
      "execution_count": 79,
      "outputs": [
        {
          "output_type": "stream",
          "text": [
            "1593\n",
            "1500\n"
          ],
          "name": "stdout"
        }
      ]
    },
    {
      "cell_type": "code",
      "metadata": {
        "id": "67_W_QvQmMWk",
        "colab_type": "code",
        "outputId": "3164c2d5-37a4-4571-d0f3-2790bb71ee44",
        "colab": {
          "base_uri": "https://localhost:8080/",
          "height": 35
        }
      },
      "source": [
        "print(path_train_input+train_ids[0])"
      ],
      "execution_count": 80,
      "outputs": [
        {
          "output_type": "stream",
          "text": [
            "/content/drive/My Drive/Ag-Net-Dataset-master/input/cdl_2015245_37_21.tif\n"
          ],
          "name": "stdout"
        }
      ]
    },
    {
      "cell_type": "code",
      "metadata": {
        "id": "JD4VkAvWnoyt",
        "colab_type": "code",
        "colab": {}
      },
      "source": [
        "\n",
        "    \n",
        "def get_data(ids,batch_size):\n",
        "  while True:\n",
        "    ids_batches = [ids[i:min(i+batch_size,len(ids))] for i in range(0, len(ids), batch_size)] \n",
        "    #ids_out_batches = [ids_out[j:min(j+batch_size,len(ids_out))] for j in range(0, len(ids_out), batch_size)]\n",
        "    # Load images\n",
        "    for b in range(len(ids_batches)):\n",
        "      #print(b)\n",
        "      #print(\":\")\n",
        "      #print(ids_batches[b])\n",
        "      k=-1\n",
        "      X = np.zeros((len(ids_batches[b]), im_height, im_width, 7), dtype=np.float32)\n",
        "      y = np.zeros((len(ids_batches[b]), im_height*im_width, 255), dtype=np.float32)\n",
        "      for c in range(len(ids_batches[b])):\n",
        "        k=k+1\n",
        "        #temp1=np.zeros((1,7),dtype=np.float32)\n",
        "        for r in range(1,7):\n",
        "          img = load_img(path_train_input + 'lc8' + ids_batches[b][c][3:-4] + '_' + str(r) + '.tif', color_mode=\"grayscale\")\n",
        "          x_img = img_to_array(img)\n",
        "          x_img = resize(x_img, (128, 128), mode='constant', preserve_range=True)\n",
        "          for p in range(128):\n",
        "            for q in range(128):\n",
        "              #print(x_img[p][q]/255)\n",
        "              X[k][p][q][r-1]=x_img[p][q]/255\n",
        "          \n",
        "        #k=k+1\n",
        "        # Save images\n",
        "        #X[k, ..., 0] = temp1 / 255  \n",
        "\n",
        "        # Load masks\n",
        "\n",
        "        mask = img_to_array(load_img(path_train_output+ids_batches[b][c], color_mode=\"grayscale\"))\n",
        "        mask = resize(mask, (128, 128), mode='constant', preserve_range=True)\n",
        "        \n",
        "        inc=-1\n",
        "        for p in range(128):\n",
        "          for q in range(128):\n",
        "            num=int(mask[p][q])\n",
        "            temp=np.zeros((255), dtype=np.float32)\n",
        "            temp[num]=1\n",
        "            inc=inc+1\n",
        "            y[k][inc]=temp\n",
        "            print\n",
        "\n",
        "      yield X,y          \n",
        "\n",
        "  \n",
        "\n",
        "    \n",
        "#, kernel_initializer=\"he_normal\"\n"
      ],
      "execution_count": 0,
      "outputs": []
    },
    {
      "cell_type": "code",
      "metadata": {
        "id": "f5ejUBoK-BZr",
        "colab_type": "code",
        "colab": {}
      },
      "source": [
        "def conv2d_block(input_tensor, n_filters, kernel_size=3,strides=1,batchnorm=True):\n",
        "    # first layer\n",
        "    x = Conv2D(filters=n_filters, kernel_size=(kernel_size, kernel_size),strides=(strides, strides),padding=\"same\", kernel_initializer=\"he_normal\")(input_tensor)\n",
        "    if batchnorm:\n",
        "        x = BatchNormalization()(x)\n",
        "    x = LeakyReLU(alpha=0.1)(x)\n",
        "#     # second layer\n",
        "#     x = Conv2D(filters=n_filters, kernel_size=(kernel_size, kernel_size),strides=(strides, strides),padding=\"same\", kernel_initializer=\"he_normal\")(x)\n",
        "#     if batchnorm:\n",
        "#         x = BatchNormalization()(x)\n",
        "#     x = LeakyReLU(alpha=0.1)(x)\n",
        "#     #x = MaxPooling2D((2, 2)) (x)\n",
        "# #     p2 = Dropout(rate=dropout)(p2)\n",
        "    return x\n",
        "  \n",
        "\n",
        "def encoder_decoder(x1,ni, kernel_size=3, batchnorm=True,times=None):\n",
        "  x=GlobalMaxPooling2D()(x1)\n",
        "  x=Reshape(target_shape=(1,1,times))(x)\n",
        "  x=Conv2D(filters=ni//2, kernel_size=(kernel_size, kernel_size),padding=\"same\", kernel_initializer=\"he_normal\")(x)\n",
        "  x=LeakyReLU(alpha=0.1)(x)\n",
        "  x=Conv2D(filters=ni, kernel_size=(kernel_size, kernel_size),padding=\"same\", kernel_initializer=\"he_normal\")(x)\n",
        "  x=Activation('sigmoid')(x)\n",
        "  \n",
        "  x2=Conv2D(filters=ni, kernel_size=(kernel_size, kernel_size),padding=\"same\", kernel_initializer=\"he_normal\")(x1)\n",
        "  x2=Activation('sigmoid')(x2)\n",
        "  \n",
        "  \n",
        "  x11=Multiply()([x1,x2])\n",
        "  x12=Multiply()([x1,x])\n",
        "  x13=Add()([x11,x12])\n",
        "  \n",
        "  return x13\n",
        "  \n",
        "  \n",
        " \n",
        "  \n",
        "  \n",
        "def DownBlock(x,ni,nf, kernel_size=3, batchnorm=True,down=None):\n",
        "  inp=x\n",
        "  x=conv2d_block(x,nf,3,2)\n",
        "  x=conv2d_block(x,nf,3)\n",
        "  x=Add()([x,conv2d_block(inp,nf,3,2)])\n",
        "  if down is not None:\n",
        "    return encoder_decoder(x,nf, kernel_size=3, batchnorm=True,times=128)\n",
        "  else:\n",
        "    return x\n",
        "  \n",
        "def UpBlock(down,cross,ni,nf, kernel_size=3, batchnorm=True,down1=None):\n",
        "  x=Conv2DTranspose(filters=nf, kernel_size=(3, 3),strides=(2,2),padding=\"same\", kernel_initializer=\"he_normal\")(down)\n",
        "  print(x)\n",
        "  print(cross)\n",
        "  x=concatenate([x,cross])\n",
        "  x=conv2d_block(x,nf,3)\n",
        "  if down1 is not None:\n",
        "    return encoder_decoder(x,nf, kernel_size=3, batchnorm=True,times=256)\n",
        "  else:\n",
        "    return x\n",
        "  \n",
        "  \n",
        "    "
      ],
      "execution_count": 0,
      "outputs": []
    },
    {
      "cell_type": "code",
      "metadata": {
        "id": "oPUqgVMBI5w_",
        "colab_type": "code",
        "colab": {}
      },
      "source": [
        "from keras.activations import softmax\n",
        "from keras.layers.core import Layer, Dense, Dropout, Activation, Flatten, Reshape, Permute\n",
        "from keras.layers import Input, merge, Convolution2D, MaxPooling2D, UpSampling2D, Reshape, core, Dropout,GlobalMaxPooling2D\n",
        "from keras.layers import Add,Multiply\n",
        "from keras import backend as K\n",
        "\n",
        "\n",
        "\n",
        "\n",
        "\n",
        "#print(y_train)\n"
      ],
      "execution_count": 0,
      "outputs": []
    },
    {
      "cell_type": "code",
      "metadata": {
        "id": "V9TU68_OMJJi",
        "colab_type": "code",
        "colab": {}
      },
      "source": [
        "def get_unet(input_img, n_filters=128, dropout=0.15, batchnorm=True):\n",
        "#     # contracting path\n",
        "#     c1 = conv2d_block(input_img, n_filters=n_filters*1, kernel_size=3, batchnorm=batchnorm)\n",
        "#     p1 = MaxPooling2D((2, 2)) (c1)\n",
        "#     p1 = Dropout(rate=dropout*0.5)(p1)\n",
        "    \n",
        "#     c2 = conv2d_block(p1, n_filters=n_filters*2, kernel_size=3, batchnorm=batchnorm)\n",
        "#     p2 = MaxPooling2D((2, 2)) (c2)\n",
        "#     p2 = Dropout(rate=dropout)(p2)\n",
        "\n",
        "\n",
        "    \n",
        "#     c3 = conv2d_block(p2, n_filters=n_filters*4, kernel_size=3, batchnorm=batchnorm)\n",
        "    \n",
        "#     # expansive path\n",
        "#     u4 = Conv2DTranspose(n_filters*2, (3, 3), strides=(2, 2), padding='same') (c3)\n",
        "#     u4 = concatenate([u4, c2])\n",
        "#     u4 = Dropout(rate=dropout)(u4)\n",
        "#     c4 = conv2d_block(u4, n_filters=n_filters*2, kernel_size=3, batchnorm=batchnorm)\n",
        "    \n",
        "#     u5 = Conv2DTranspose(n_filters*1, (3, 3), strides=(2, 2), padding='same') (c4)\n",
        "#     u5 = concatenate([u5, c1])\n",
        "#     u5 = Dropout(rate=dropout)(u5)\n",
        "#     c5 = conv2d_block(u5, n_filters=n_filters*1, kernel_size=3, batchnorm=batchnorm)\n",
        "\n",
        "    \n",
        "#     c6 = conv2d_block(c5, n_filters=255, kernel_size=1, batchnorm=batchnorm)\n",
        "    \n",
        "#     c7 = core.Reshape((128*128,255))(c6)\n",
        "    \n",
        "\n",
        "#     #Conv2D(255, (1, 1), activation='softmax') (c4)\n",
        "    \n",
        "#     outputs = core.Activation('softmax')(c7)\n",
        "    \n",
        "#     #outputs=Lambda(lambda x: x ** 0.5)(outputs)\n",
        "\n",
        "\n",
        "\n",
        "  d1=DownBlock(input_img,7,128,3, True,12)\n",
        "  print(\"D1\")\n",
        "  d2=DownBlock(d1,128,256)\n",
        "  print(\"D2\")\n",
        "  d3=DownBlock(d2,256,512)\n",
        "  print(\"D3\")\n",
        "  d4=DownBlock(d3,512,1024)\n",
        "  print(\"D4\")\n",
        "  print(d4)\n",
        "  u1=UpBlock(d4,d3,1024,512)\n",
        "  print(\"U1\")\n",
        "  u2=UpBlock(u1,d2,512,256,3,True,12)\n",
        "  print(\"U2\")\n",
        "  u3=UpBlock(u2,d1,256,128)\n",
        "  print(\"U3\")\n",
        "  \n",
        "  print(\"X\")\n",
        "  print(u3)\n",
        "  \n",
        "  outputs = Conv2DTranspose(filters=255, kernel_size=(3,3),strides=(2,2),padding=\"same\", kernel_initializer=\"he_normal\")(u3)\n",
        "  print(\"Yes\")\n",
        "  outputs = core.Reshape((128*128,255))(outputs)\n",
        "  outputs = core.Activation('softmax')(outputs)\n",
        "  \n",
        "  \n",
        "  \n",
        "  \n",
        "  \n",
        "    \n",
        "  model = Model(inputs=[input_img], outputs=[outputs])\n",
        "  print(\"Yes1\")\n",
        "  return model\n",
        "\t"
      ],
      "execution_count": 0,
      "outputs": []
    },
    {
      "cell_type": "code",
      "metadata": {
        "id": "j_i_z17W-Wwt",
        "colab_type": "code",
        "outputId": "be596f1b-41c2-4046-b234-1119ea2daa1d",
        "colab": {
          "base_uri": "https://localhost:8080/",
          "height": 3537
        }
      },
      "source": [
        "input_img = Input((128, 128, 7), name='img')\n",
        "model = get_unet(input_img, n_filters=7, dropout=0.15, batchnorm=True)\n",
        "#model = get_unet()\n",
        "\n",
        "model.compile(optimizer=Adam(lr=0.1), loss=\"categorical_crossentropy\", metrics=[\"categorical_accuracy\"])\n",
        "model.summary()"
      ],
      "execution_count": 85,
      "outputs": [
        {
          "output_type": "stream",
          "text": [
            "D1\n",
            "D2\n",
            "D3\n",
            "D4\n",
            "Tensor(\"add_23/add:0\", shape=(?, 8, 8, 1024), dtype=float32)\n",
            "Tensor(\"conv2d_transpose_13/BiasAdd:0\", shape=(?, ?, ?, 512), dtype=float32)\n",
            "Tensor(\"add_22/add:0\", shape=(?, 16, 16, 512), dtype=float32)\n",
            "U1\n",
            "Tensor(\"conv2d_transpose_14/BiasAdd:0\", shape=(?, ?, ?, 256), dtype=float32)\n",
            "Tensor(\"add_21/add:0\", shape=(?, 32, 32, 256), dtype=float32)\n",
            "U2\n",
            "Tensor(\"conv2d_transpose_15/BiasAdd:0\", shape=(?, ?, ?, 128), dtype=float32)\n",
            "Tensor(\"add_20/add:0\", shape=(?, 64, 64, 128), dtype=float32)\n",
            "U3\n",
            "X\n",
            "Tensor(\"leaky_re_lu_68/LeakyRelu:0\", shape=(?, 64, 64, 128), dtype=float32)\n",
            "Yes\n",
            "Yes1\n",
            "__________________________________________________________________________________________________\n",
            "Layer (type)                    Output Shape         Param #     Connected to                     \n",
            "==================================================================================================\n",
            "img (InputLayer)                (None, 128, 128, 7)  0                                            \n",
            "__________________________________________________________________________________________________\n",
            "conv2d_64 (Conv2D)              (None, 64, 64, 128)  8192        img[0][0]                        \n",
            "__________________________________________________________________________________________________\n",
            "batch_normalization_46 (BatchNo (None, 64, 64, 128)  512         conv2d_64[0][0]                  \n",
            "__________________________________________________________________________________________________\n",
            "leaky_re_lu_52 (LeakyReLU)      (None, 64, 64, 128)  0           batch_normalization_46[0][0]     \n",
            "__________________________________________________________________________________________________\n",
            "conv2d_65 (Conv2D)              (None, 64, 64, 128)  147584      leaky_re_lu_52[0][0]             \n",
            "__________________________________________________________________________________________________\n",
            "conv2d_66 (Conv2D)              (None, 64, 64, 128)  8192        img[0][0]                        \n",
            "__________________________________________________________________________________________________\n",
            "batch_normalization_47 (BatchNo (None, 64, 64, 128)  512         conv2d_65[0][0]                  \n",
            "__________________________________________________________________________________________________\n",
            "batch_normalization_48 (BatchNo (None, 64, 64, 128)  512         conv2d_66[0][0]                  \n",
            "__________________________________________________________________________________________________\n",
            "leaky_re_lu_53 (LeakyReLU)      (None, 64, 64, 128)  0           batch_normalization_47[0][0]     \n",
            "__________________________________________________________________________________________________\n",
            "leaky_re_lu_54 (LeakyReLU)      (None, 64, 64, 128)  0           batch_normalization_48[0][0]     \n",
            "__________________________________________________________________________________________________\n",
            "add_19 (Add)                    (None, 64, 64, 128)  0           leaky_re_lu_53[0][0]             \n",
            "                                                                 leaky_re_lu_54[0][0]             \n",
            "__________________________________________________________________________________________________\n",
            "global_max_pooling2d_7 (GlobalM (None, 128)          0           add_19[0][0]                     \n",
            "__________________________________________________________________________________________________\n",
            "reshape_10 (Reshape)            (None, 1, 1, 128)    0           global_max_pooling2d_7[0][0]     \n",
            "__________________________________________________________________________________________________\n",
            "conv2d_67 (Conv2D)              (None, 1, 1, 64)     73792       reshape_10[0][0]                 \n",
            "__________________________________________________________________________________________________\n",
            "leaky_re_lu_55 (LeakyReLU)      (None, 1, 1, 64)     0           conv2d_67[0][0]                  \n",
            "__________________________________________________________________________________________________\n",
            "conv2d_69 (Conv2D)              (None, 64, 64, 128)  147584      add_19[0][0]                     \n",
            "__________________________________________________________________________________________________\n",
            "conv2d_68 (Conv2D)              (None, 1, 1, 128)    73856       leaky_re_lu_55[0][0]             \n",
            "__________________________________________________________________________________________________\n",
            "activation_17 (Activation)      (None, 64, 64, 128)  0           conv2d_69[0][0]                  \n",
            "__________________________________________________________________________________________________\n",
            "activation_16 (Activation)      (None, 1, 1, 128)    0           conv2d_68[0][0]                  \n",
            "__________________________________________________________________________________________________\n",
            "multiply_13 (Multiply)          (None, 64, 64, 128)  0           add_19[0][0]                     \n",
            "                                                                 activation_17[0][0]              \n",
            "__________________________________________________________________________________________________\n",
            "multiply_14 (Multiply)          (None, 64, 64, 128)  0           add_19[0][0]                     \n",
            "                                                                 activation_16[0][0]              \n",
            "__________________________________________________________________________________________________\n",
            "add_20 (Add)                    (None, 64, 64, 128)  0           multiply_13[0][0]                \n",
            "                                                                 multiply_14[0][0]                \n",
            "__________________________________________________________________________________________________\n",
            "conv2d_70 (Conv2D)              (None, 32, 32, 256)  295168      add_20[0][0]                     \n",
            "__________________________________________________________________________________________________\n",
            "batch_normalization_49 (BatchNo (None, 32, 32, 256)  1024        conv2d_70[0][0]                  \n",
            "__________________________________________________________________________________________________\n",
            "leaky_re_lu_56 (LeakyReLU)      (None, 32, 32, 256)  0           batch_normalization_49[0][0]     \n",
            "__________________________________________________________________________________________________\n",
            "conv2d_71 (Conv2D)              (None, 32, 32, 256)  590080      leaky_re_lu_56[0][0]             \n",
            "__________________________________________________________________________________________________\n",
            "conv2d_72 (Conv2D)              (None, 32, 32, 256)  295168      add_20[0][0]                     \n",
            "__________________________________________________________________________________________________\n",
            "batch_normalization_50 (BatchNo (None, 32, 32, 256)  1024        conv2d_71[0][0]                  \n",
            "__________________________________________________________________________________________________\n",
            "batch_normalization_51 (BatchNo (None, 32, 32, 256)  1024        conv2d_72[0][0]                  \n",
            "__________________________________________________________________________________________________\n",
            "leaky_re_lu_57 (LeakyReLU)      (None, 32, 32, 256)  0           batch_normalization_50[0][0]     \n",
            "__________________________________________________________________________________________________\n",
            "leaky_re_lu_58 (LeakyReLU)      (None, 32, 32, 256)  0           batch_normalization_51[0][0]     \n",
            "__________________________________________________________________________________________________\n",
            "add_21 (Add)                    (None, 32, 32, 256)  0           leaky_re_lu_57[0][0]             \n",
            "                                                                 leaky_re_lu_58[0][0]             \n",
            "__________________________________________________________________________________________________\n",
            "conv2d_73 (Conv2D)              (None, 16, 16, 512)  1180160     add_21[0][0]                     \n",
            "__________________________________________________________________________________________________\n",
            "batch_normalization_52 (BatchNo (None, 16, 16, 512)  2048        conv2d_73[0][0]                  \n",
            "__________________________________________________________________________________________________\n",
            "leaky_re_lu_59 (LeakyReLU)      (None, 16, 16, 512)  0           batch_normalization_52[0][0]     \n",
            "__________________________________________________________________________________________________\n",
            "conv2d_74 (Conv2D)              (None, 16, 16, 512)  2359808     leaky_re_lu_59[0][0]             \n",
            "__________________________________________________________________________________________________\n",
            "conv2d_75 (Conv2D)              (None, 16, 16, 512)  1180160     add_21[0][0]                     \n",
            "__________________________________________________________________________________________________\n",
            "batch_normalization_53 (BatchNo (None, 16, 16, 512)  2048        conv2d_74[0][0]                  \n",
            "__________________________________________________________________________________________________\n",
            "batch_normalization_54 (BatchNo (None, 16, 16, 512)  2048        conv2d_75[0][0]                  \n",
            "__________________________________________________________________________________________________\n",
            "leaky_re_lu_60 (LeakyReLU)      (None, 16, 16, 512)  0           batch_normalization_53[0][0]     \n",
            "__________________________________________________________________________________________________\n",
            "leaky_re_lu_61 (LeakyReLU)      (None, 16, 16, 512)  0           batch_normalization_54[0][0]     \n",
            "__________________________________________________________________________________________________\n",
            "add_22 (Add)                    (None, 16, 16, 512)  0           leaky_re_lu_60[0][0]             \n",
            "                                                                 leaky_re_lu_61[0][0]             \n",
            "__________________________________________________________________________________________________\n",
            "conv2d_76 (Conv2D)              (None, 8, 8, 1024)   4719616     add_22[0][0]                     \n",
            "__________________________________________________________________________________________________\n",
            "batch_normalization_55 (BatchNo (None, 8, 8, 1024)   4096        conv2d_76[0][0]                  \n",
            "__________________________________________________________________________________________________\n",
            "leaky_re_lu_62 (LeakyReLU)      (None, 8, 8, 1024)   0           batch_normalization_55[0][0]     \n",
            "__________________________________________________________________________________________________\n",
            "conv2d_77 (Conv2D)              (None, 8, 8, 1024)   9438208     leaky_re_lu_62[0][0]             \n",
            "__________________________________________________________________________________________________\n",
            "conv2d_78 (Conv2D)              (None, 8, 8, 1024)   4719616     add_22[0][0]                     \n",
            "__________________________________________________________________________________________________\n",
            "batch_normalization_56 (BatchNo (None, 8, 8, 1024)   4096        conv2d_77[0][0]                  \n",
            "__________________________________________________________________________________________________\n",
            "batch_normalization_57 (BatchNo (None, 8, 8, 1024)   4096        conv2d_78[0][0]                  \n",
            "__________________________________________________________________________________________________\n",
            "leaky_re_lu_63 (LeakyReLU)      (None, 8, 8, 1024)   0           batch_normalization_56[0][0]     \n",
            "__________________________________________________________________________________________________\n",
            "leaky_re_lu_64 (LeakyReLU)      (None, 8, 8, 1024)   0           batch_normalization_57[0][0]     \n",
            "__________________________________________________________________________________________________\n",
            "add_23 (Add)                    (None, 8, 8, 1024)   0           leaky_re_lu_63[0][0]             \n",
            "                                                                 leaky_re_lu_64[0][0]             \n",
            "__________________________________________________________________________________________________\n",
            "conv2d_transpose_13 (Conv2DTran (None, 16, 16, 512)  4719104     add_23[0][0]                     \n",
            "__________________________________________________________________________________________________\n",
            "concatenate_10 (Concatenate)    (None, 16, 16, 1024) 0           conv2d_transpose_13[0][0]        \n",
            "                                                                 add_22[0][0]                     \n",
            "__________________________________________________________________________________________________\n",
            "conv2d_79 (Conv2D)              (None, 16, 16, 512)  4719104     concatenate_10[0][0]             \n",
            "__________________________________________________________________________________________________\n",
            "batch_normalization_58 (BatchNo (None, 16, 16, 512)  2048        conv2d_79[0][0]                  \n",
            "__________________________________________________________________________________________________\n",
            "leaky_re_lu_65 (LeakyReLU)      (None, 16, 16, 512)  0           batch_normalization_58[0][0]     \n",
            "__________________________________________________________________________________________________\n",
            "conv2d_transpose_14 (Conv2DTran (None, 32, 32, 256)  1179904     leaky_re_lu_65[0][0]             \n",
            "__________________________________________________________________________________________________\n",
            "concatenate_11 (Concatenate)    (None, 32, 32, 512)  0           conv2d_transpose_14[0][0]        \n",
            "                                                                 add_21[0][0]                     \n",
            "__________________________________________________________________________________________________\n",
            "conv2d_80 (Conv2D)              (None, 32, 32, 256)  1179904     concatenate_11[0][0]             \n",
            "__________________________________________________________________________________________________\n",
            "batch_normalization_59 (BatchNo (None, 32, 32, 256)  1024        conv2d_80[0][0]                  \n",
            "__________________________________________________________________________________________________\n",
            "leaky_re_lu_66 (LeakyReLU)      (None, 32, 32, 256)  0           batch_normalization_59[0][0]     \n",
            "__________________________________________________________________________________________________\n",
            "global_max_pooling2d_8 (GlobalM (None, 256)          0           leaky_re_lu_66[0][0]             \n",
            "__________________________________________________________________________________________________\n",
            "reshape_11 (Reshape)            (None, 1, 1, 256)    0           global_max_pooling2d_8[0][0]     \n",
            "__________________________________________________________________________________________________\n",
            "conv2d_81 (Conv2D)              (None, 1, 1, 128)    295040      reshape_11[0][0]                 \n",
            "__________________________________________________________________________________________________\n",
            "leaky_re_lu_67 (LeakyReLU)      (None, 1, 1, 128)    0           conv2d_81[0][0]                  \n",
            "__________________________________________________________________________________________________\n",
            "conv2d_83 (Conv2D)              (None, 32, 32, 256)  590080      leaky_re_lu_66[0][0]             \n",
            "__________________________________________________________________________________________________\n",
            "conv2d_82 (Conv2D)              (None, 1, 1, 256)    295168      leaky_re_lu_67[0][0]             \n",
            "__________________________________________________________________________________________________\n",
            "activation_19 (Activation)      (None, 32, 32, 256)  0           conv2d_83[0][0]                  \n",
            "__________________________________________________________________________________________________\n",
            "activation_18 (Activation)      (None, 1, 1, 256)    0           conv2d_82[0][0]                  \n",
            "__________________________________________________________________________________________________\n",
            "multiply_15 (Multiply)          (None, 32, 32, 256)  0           leaky_re_lu_66[0][0]             \n",
            "                                                                 activation_19[0][0]              \n",
            "__________________________________________________________________________________________________\n",
            "multiply_16 (Multiply)          (None, 32, 32, 256)  0           leaky_re_lu_66[0][0]             \n",
            "                                                                 activation_18[0][0]              \n",
            "__________________________________________________________________________________________________\n",
            "add_24 (Add)                    (None, 32, 32, 256)  0           multiply_15[0][0]                \n",
            "                                                                 multiply_16[0][0]                \n",
            "__________________________________________________________________________________________________\n",
            "conv2d_transpose_15 (Conv2DTran (None, 64, 64, 128)  295040      add_24[0][0]                     \n",
            "__________________________________________________________________________________________________\n",
            "concatenate_12 (Concatenate)    (None, 64, 64, 256)  0           conv2d_transpose_15[0][0]        \n",
            "                                                                 add_20[0][0]                     \n",
            "__________________________________________________________________________________________________\n",
            "conv2d_84 (Conv2D)              (None, 64, 64, 128)  295040      concatenate_12[0][0]             \n",
            "__________________________________________________________________________________________________\n",
            "batch_normalization_60 (BatchNo (None, 64, 64, 128)  512         conv2d_84[0][0]                  \n",
            "__________________________________________________________________________________________________\n",
            "leaky_re_lu_68 (LeakyReLU)      (None, 64, 64, 128)  0           batch_normalization_60[0][0]     \n",
            "__________________________________________________________________________________________________\n",
            "conv2d_transpose_16 (Conv2DTran (None, 128, 128, 255 294015      leaky_re_lu_68[0][0]             \n",
            "__________________________________________________________________________________________________\n",
            "reshape_12 (Reshape)            (None, 16384, 255)   0           conv2d_transpose_16[0][0]        \n",
            "__________________________________________________________________________________________________\n",
            "activation_20 (Activation)      (None, 16384, 255)   0           reshape_12[0][0]                 \n",
            "==================================================================================================\n",
            "Total params: 39,126,207\n",
            "Trainable params: 39,112,895\n",
            "Non-trainable params: 13,312\n",
            "__________________________________________________________________________________________________\n"
          ],
          "name": "stdout"
        }
      ]
    },
    {
      "cell_type": "code",
      "metadata": {
        "id": "9YRubLwe-cZ1",
        "colab_type": "code",
        "colab": {}
      },
      "source": [
        "callbacks = [\n",
        "    EarlyStopping(monitor='loss',patience=10, verbose=1),\n",
        "    ReduceLROnPlateau(monitor='loss',factor=0.1, patience=3, min_lr=0.00000001, verbose=1),\n",
        "    ModelCheckpoint('/content/drive/My Drive/model3.h5', monitor='loss',verbose=1, save_best_only=True, save_weights_only=False)\n",
        "]\n",
        "\n"
      ],
      "execution_count": 0,
      "outputs": []
    },
    {
      "cell_type": "code",
      "metadata": {
        "id": "WLmEw5aNQrN2",
        "colab_type": "code",
        "colab": {}
      },
      "source": [
        "train_generator = get_data(train_ids[0:1], batch_size=1)\n",
        "valid_generator = get_data(valid_ids[0:1],batch_size=1)\n"
      ],
      "execution_count": 0,
      "outputs": []
    },
    {
      "cell_type": "code",
      "metadata": {
        "id": "iFOPEbFAzF8S",
        "colab_type": "code",
        "colab": {}
      },
      "source": [
        "def get_data1(ids,batch_size):\n",
        "    ids_batches = [ids[i:min(i+batch_size,len(ids))] for i in range(0, len(ids), batch_size)] \n",
        "    #ids_out_batches = [ids_out[j:min(j+batch_size,len(ids_out))] for j in range(0, len(ids_out), batch_size)]\n",
        "    # Load images\n",
        "    for b in range(len(ids_batches)):\n",
        "      #print(b)\n",
        "      #print(\":\")\n",
        "      #print(ids_batches[b])\n",
        "      k=-1\n",
        "      X = np.zeros((len(ids_batches[b]), im_height, im_width, 7), dtype=np.float32)\n",
        "      y = np.zeros((len(ids_batches[b]), im_height*im_width, 255), dtype=np.float32)\n",
        "      for c in range(len(ids_batches[b])):\n",
        "        k=k+1\n",
        "        #temp1=np.zeros((1,7),dtype=np.float32)\n",
        "        for r in range(1,7):\n",
        "          img = load_img(path_train_input + 'lc8' + ids_batches[b][c][3:-4] + '_' + str(r) + '.tif', color_mode=\"grayscale\")\n",
        "          x_img = img_to_array(img)\n",
        "          x_img = resize(x_img, (128, 128), mode='constant', preserve_range=True)\n",
        "          for p in range(128):\n",
        "            for q in range(128):\n",
        "              #print(x_img[p][q]/255)\n",
        "              X[k][p][q][r-1]=x_img[p][q]/255\n",
        "          \n",
        "        #k=k+1\n",
        "        # Save images\n",
        "        #X[k, ..., 0] = temp1 / 255  \n",
        "\n",
        "        # Load masks\n",
        "\n",
        "        mask = img_to_array(load_img(path_train_output+ids_batches[b][c], color_mode=\"grayscale\"))\n",
        "        mask = resize(mask, (128, 128), mode='constant', preserve_range=True)\n",
        "        \n",
        "        inc=-1\n",
        "        for p in range(128):\n",
        "          for q in range(128):\n",
        "            num=int(mask[p][q])\n",
        "            temp=np.zeros((255), dtype=np.float32)\n",
        "            temp[num]=1\n",
        "            inc=inc+1\n",
        "            y[k][inc]=temp\n",
        "            print\n",
        "\n",
        "      return X,y          \n"
      ],
      "execution_count": 0,
      "outputs": []
    },
    {
      "cell_type": "code",
      "metadata": {
        "id": "A2SX3yKfzQD4",
        "colab_type": "code",
        "colab": {}
      },
      "source": [
        "x_tr,y_tr=get_data1(train_ids[0:2], batch_size=2)"
      ],
      "execution_count": 0,
      "outputs": []
    },
    {
      "cell_type": "code",
      "metadata": {
        "id": "Q3p4Ac_cz-jz",
        "colab_type": "code",
        "colab": {}
      },
      "source": [
        "results =model.fit(x=x_tr,y=y_tr, batch_size=1 , epochs=500, verbose=1)"
      ],
      "execution_count": 0,
      "outputs": []
    },
    {
      "cell_type": "code",
      "metadata": {
        "id": "GqgOouuk-m3h",
        "colab_type": "code",
        "colab": {}
      },
      "source": [
        "#new_model.predict_generator(train_generator,steps=2,verbose=1)\n",
        "results =model.fit_generator(train_generator, steps_per_epoch=10 , epochs=500, verbose=1, validation_data=valid_generator, validation_steps=1, callbacks=callbacks)"
      ],
      "execution_count": 0,
      "outputs": []
    },
    {
      "cell_type": "code",
      "metadata": {
        "id": "x4XK8AiXldg5",
        "colab_type": "code",
        "colab": {}
      },
      "source": [
        "model.evaluate(x=x_tr,y=y_tr,batch_size=1)"
      ],
      "execution_count": 0,
      "outputs": []
    },
    {
      "cell_type": "code",
      "metadata": {
        "id": "ku9XwFubuvAw",
        "colab_type": "code",
        "colab": {
          "base_uri": "https://localhost:8080/",
          "height": 35
        },
        "outputId": "61a0a251-78a2-498d-fed0-b3404a9c8a8a"
      },
      "source": [
        "print(y_tr.shape)"
      ],
      "execution_count": 153,
      "outputs": [
        {
          "output_type": "stream",
          "text": [
            "(2, 16384, 255)\n"
          ],
          "name": "stdout"
        }
      ]
    },
    {
      "cell_type": "code",
      "metadata": {
        "id": "wP18ojA_12tZ",
        "colab_type": "code",
        "colab": {
          "base_uri": "https://localhost:8080/",
          "height": 35
        },
        "outputId": "64bc0a4e-cefc-4f39-8a6a-7f1874cb14a4"
      },
      "source": [
        "y_test = model.predict(x_tr)\n",
        "print(y_test.shape)"
      ],
      "execution_count": 154,
      "outputs": [
        {
          "output_type": "stream",
          "text": [
            "(2, 16384, 255)\n"
          ],
          "name": "stdout"
        }
      ]
    },
    {
      "cell_type": "code",
      "metadata": {
        "id": "Ztm9ZBtd2wWo",
        "colab_type": "code",
        "colab": {
          "base_uri": "https://localhost:8080/",
          "height": 369
        },
        "outputId": "23070cd9-3699-4864-e419-3139950c2546"
      },
      "source": [
        "print(y_test[1])\n",
        "print(y_tr[1])"
      ],
      "execution_count": 172,
      "outputs": [
        {
          "output_type": "stream",
          "text": [
            "[[1.50440099e-13 1.59860647e-04 9.51220168e-14 ... 6.52784033e-14\n",
            "  1.09168235e-13 1.88489835e-13]\n",
            " [1.83619703e-17 1.67856779e-05 8.94689635e-18 ... 2.27399246e-17\n",
            "  1.09957218e-17 4.95578215e-18]\n",
            " [6.76372682e-28 1.84920100e-05 1.61784796e-28 ... 1.33335633e-28\n",
            "  4.90548320e-28 6.46165433e-28]\n",
            " ...\n",
            " [2.91933902e-16 1.84617588e-09 1.68462809e-16 ... 1.95660468e-16\n",
            "  1.94803258e-16 1.94013452e-16]\n",
            " [7.39948461e-17 2.91064178e-04 2.14689447e-16 ... 1.05669762e-16\n",
            "  1.81460292e-16 4.52635613e-17]\n",
            " [3.48205622e-12 6.58552235e-05 3.11276937e-12 ... 3.52203314e-12\n",
            "  3.37224107e-12 2.38279513e-12]]\n",
            "[[0. 0. 0. ... 0. 0. 0.]\n",
            " [0. 0. 0. ... 0. 0. 0.]\n",
            " [0. 0. 0. ... 0. 0. 0.]\n",
            " ...\n",
            " [0. 0. 0. ... 0. 0. 0.]\n",
            " [0. 0. 0. ... 0. 0. 0.]\n",
            " [0. 0. 0. ... 0. 0. 0.]]\n"
          ],
          "name": "stdout"
        }
      ]
    },
    {
      "cell_type": "code",
      "metadata": {
        "id": "OO3P3FuI4jsU",
        "colab_type": "code",
        "colab": {}
      },
      "source": [
        "true_img = y_tr[1].reshape(128,128,255)\n"
      ],
      "execution_count": 0,
      "outputs": []
    },
    {
      "cell_type": "code",
      "metadata": {
        "id": "Z4plwHvo5Dg5",
        "colab_type": "code",
        "colab": {
          "base_uri": "https://localhost:8080/",
          "height": 897
        },
        "outputId": "8538e569-7bc5-4cba-d7f6-aeac637fb5df"
      },
      "source": [
        "print(true_img.shape)\n",
        "print(true_img)\n"
      ],
      "execution_count": 174,
      "outputs": [
        {
          "output_type": "stream",
          "text": [
            "(128, 128, 255)\n",
            "[[[0. 0. 0. ... 0. 0. 0.]\n",
            "  [0. 0. 0. ... 0. 0. 0.]\n",
            "  [0. 0. 0. ... 0. 0. 0.]\n",
            "  ...\n",
            "  [0. 0. 0. ... 0. 0. 0.]\n",
            "  [0. 0. 0. ... 0. 0. 0.]\n",
            "  [0. 0. 0. ... 0. 0. 0.]]\n",
            "\n",
            " [[0. 0. 0. ... 0. 0. 0.]\n",
            "  [0. 0. 0. ... 0. 0. 0.]\n",
            "  [0. 0. 0. ... 0. 0. 0.]\n",
            "  ...\n",
            "  [0. 0. 0. ... 0. 0. 0.]\n",
            "  [0. 0. 0. ... 0. 0. 0.]\n",
            "  [0. 0. 0. ... 0. 0. 0.]]\n",
            "\n",
            " [[0. 0. 0. ... 0. 0. 0.]\n",
            "  [0. 0. 0. ... 0. 0. 0.]\n",
            "  [0. 0. 0. ... 0. 0. 0.]\n",
            "  ...\n",
            "  [0. 0. 0. ... 0. 0. 0.]\n",
            "  [0. 0. 0. ... 0. 0. 0.]\n",
            "  [0. 0. 0. ... 0. 0. 0.]]\n",
            "\n",
            " ...\n",
            "\n",
            " [[0. 0. 0. ... 0. 0. 0.]\n",
            "  [0. 0. 0. ... 0. 0. 0.]\n",
            "  [0. 0. 0. ... 0. 0. 0.]\n",
            "  ...\n",
            "  [0. 0. 0. ... 0. 0. 0.]\n",
            "  [0. 0. 0. ... 0. 0. 0.]\n",
            "  [0. 0. 0. ... 0. 0. 0.]]\n",
            "\n",
            " [[0. 0. 0. ... 0. 0. 0.]\n",
            "  [0. 0. 0. ... 0. 0. 0.]\n",
            "  [0. 0. 0. ... 0. 0. 0.]\n",
            "  ...\n",
            "  [0. 0. 0. ... 0. 0. 0.]\n",
            "  [0. 0. 0. ... 0. 0. 0.]\n",
            "  [0. 0. 0. ... 0. 0. 0.]]\n",
            "\n",
            " [[0. 0. 0. ... 0. 0. 0.]\n",
            "  [0. 0. 0. ... 0. 0. 0.]\n",
            "  [0. 0. 0. ... 0. 0. 0.]\n",
            "  ...\n",
            "  [0. 0. 0. ... 0. 0. 0.]\n",
            "  [0. 0. 0. ... 0. 0. 0.]\n",
            "  [0. 0. 0. ... 0. 0. 0.]]]\n"
          ],
          "name": "stdout"
        }
      ]
    },
    {
      "cell_type": "code",
      "metadata": {
        "id": "iTXEgpun5S3M",
        "colab_type": "code",
        "colab": {}
      },
      "source": [
        "true_img=np.argmax(true_img,axis=-1)"
      ],
      "execution_count": 0,
      "outputs": []
    },
    {
      "cell_type": "code",
      "metadata": {
        "id": "KN7aoJur6gBn",
        "colab_type": "code",
        "colab": {
          "base_uri": "https://localhost:8080/",
          "height": 263
        },
        "outputId": "e09ffd95-8a3f-43f4-bcb3-5ca07e2f1784"
      },
      "source": [
        "print(true_img)\n",
        "true_img=true_img.reshape(128,128)\n",
        "true_img=true_img/255\n",
        "print(true_img)"
      ],
      "execution_count": 176,
      "outputs": [
        {
          "output_type": "stream",
          "text": [
            "[[195 195 195 ... 195 195 194]\n",
            " [195 195 195 ... 195 195 194]\n",
            " [194 111 195 ... 121 121 120]\n",
            " ...\n",
            " [111 111 111 ... 194 194 194]\n",
            " [194 194 194 ... 195 195 194]\n",
            " [ 61 195 195 ... 194  31  36]]\n",
            "[[0.76470588 0.76470588 0.76470588 ... 0.76470588 0.76470588 0.76078431]\n",
            " [0.76470588 0.76470588 0.76470588 ... 0.76470588 0.76470588 0.76078431]\n",
            " [0.76078431 0.43529412 0.76470588 ... 0.4745098  0.4745098  0.47058824]\n",
            " ...\n",
            " [0.43529412 0.43529412 0.43529412 ... 0.76078431 0.76078431 0.76078431]\n",
            " [0.76078431 0.76078431 0.76078431 ... 0.76470588 0.76470588 0.76078431]\n",
            " [0.23921569 0.76470588 0.76470588 ... 0.76078431 0.12156863 0.14117647]]\n"
          ],
          "name": "stdout"
        }
      ]
    },
    {
      "cell_type": "code",
      "metadata": {
        "id": "9fbb_wIZ678k",
        "colab_type": "code",
        "colab": {
          "base_uri": "https://localhost:8080/",
          "height": 269
        },
        "outputId": "8f117730-bcba-4d94-d27d-f11c21abbcbe"
      },
      "source": [
        "%matplotlib inline\n",
        "from matplotlib import pyplot as plt\n",
        "\n",
        "\n",
        "plt.imshow(true_img, cmap='gray')\n",
        "plt.show()\n",
        "\n"
      ],
      "execution_count": 177,
      "outputs": [
        {
          "output_type": "display_data",
          "data": {
            "image/png": "[encoded data removed]",
            "text/plain": [
              "<Figure size 432x288 with 1 Axes>"
            ]
          },
          "metadata": {
            "tags": []
          }
        }
      ]
    },
    {
      "cell_type": "code",
      "metadata": {
        "id": "TFsso5y-94Q8",
        "colab_type": "code",
        "colab": {}
      },
      "source": [
        "pred_img = y_test[1].reshape(128,128,255)\n"
      ],
      "execution_count": 0,
      "outputs": []
    },
    {
      "cell_type": "code",
      "metadata": {
        "id": "GwY_Lc65-BQC",
        "colab_type": "code",
        "colab": {
          "base_uri": "https://localhost:8080/",
          "height": 1531
        },
        "outputId": "3d4f1310-7ed3-45f1-e6fa-71b451365ae6"
      },
      "source": [
        "print(pred_img.shape)\n",
        "print(pred_img)\n"
      ],
      "execution_count": 179,
      "outputs": [
        {
          "output_type": "stream",
          "text": [
            "(128, 128, 255)\n",
            "[[[1.50440099e-13 1.59860647e-04 9.51220168e-14 ... 6.52784033e-14\n",
            "   1.09168235e-13 1.88489835e-13]\n",
            "  [1.83619703e-17 1.67856779e-05 8.94689635e-18 ... 2.27399246e-17\n",
            "   1.09957218e-17 4.95578215e-18]\n",
            "  [6.76372682e-28 1.84920100e-05 1.61784796e-28 ... 1.33335633e-28\n",
            "   4.90548320e-28 6.46165433e-28]\n",
            "  ...\n",
            "  [1.98445079e-17 3.81216921e-07 1.04902028e-17 ... 4.02216507e-17\n",
            "   1.05889466e-17 1.02964903e-17]\n",
            "  [3.88928085e-23 1.61727639e-05 1.30119135e-23 ... 1.12461044e-23\n",
            "   2.91784093e-23 4.24229295e-23]\n",
            "  [2.62189229e-16 1.25955878e-04 1.44779729e-16 ... 3.06121281e-16\n",
            "   1.53857579e-16 7.40668042e-17]]\n",
            "\n",
            " [[3.72950742e-19 7.04424465e-08 2.24446691e-18 ... 8.61932280e-19\n",
            "   3.22871713e-18 6.38504024e-19]\n",
            "  [9.35864087e-26 7.21615562e-12 1.40476985e-25 ... 3.88534087e-26\n",
            "   5.27855798e-26 2.42639963e-26]\n",
            "  [1.30386142e-38 8.34029651e-11 5.77461062e-37 ... 4.18477355e-38\n",
            "   7.22388954e-37 2.52009404e-38]\n",
            "  ...\n",
            "  [5.24208951e-22 2.17152206e-06 4.58970685e-22 ... 3.56447267e-22\n",
            "   3.84363098e-22 1.45164985e-22]\n",
            "  [5.16482301e-32 4.76292394e-10 3.80834732e-31 ... 7.38980577e-32\n",
            "   2.96857016e-31 1.77852619e-32]\n",
            "  [4.24072808e-24 3.68730468e-09 4.99809490e-24 ... 2.24394936e-24\n",
            "   2.37200968e-24 1.48583293e-24]]\n",
            "\n",
            " [[9.05054500e-23 1.90620870e-08 4.50923622e-23 ... 2.11140593e-23\n",
            "   3.02057491e-23 7.93078913e-23]\n",
            "  [1.74409688e-28 4.68812281e-11 5.23030031e-29 ... 9.66310012e-29\n",
            "   6.17498941e-29 2.70527886e-29]\n",
            "  [0.00000000e+00 5.41562406e-10 0.00000000e+00 ... 0.00000000e+00\n",
            "   0.00000000e+00 0.00000000e+00]\n",
            "  ...\n",
            "  [2.87293774e-26 3.90973014e-07 5.77467214e-27 ... 4.97200786e-26\n",
            "   3.90756202e-27 3.93460554e-27]\n",
            "  [9.07869841e-37 7.97387145e-07 5.95513732e-37 ... 2.15241866e-37\n",
            "   1.27184153e-36 1.34962952e-36]\n",
            "  [5.20156700e-28 1.80464008e-06 1.49690594e-28 ... 4.50890293e-28\n",
            "   1.66522463e-28 6.03808829e-29]]\n",
            "\n",
            " ...\n",
            "\n",
            " [[1.39901790e-28 2.94320368e-14 4.60380457e-28 ... 1.59767986e-28\n",
            "   6.39426171e-28 2.29442751e-28]\n",
            "  [1.46199382e-33 4.19340728e-15 3.79194972e-33 ... 1.11386520e-33\n",
            "   1.11456223e-33 7.36607601e-34]\n",
            "  [0.00000000e+00 2.28386199e-20 0.00000000e+00 ... 0.00000000e+00\n",
            "   0.00000000e+00 0.00000000e+00]\n",
            "  ...\n",
            "  [3.36267358e-15 2.45069876e-09 2.83411867e-15 ... 2.91401717e-15\n",
            "   2.63291637e-15 1.81287095e-15]\n",
            "  [5.79444866e-20 4.24649306e-06 1.86890176e-19 ... 8.02774972e-20\n",
            "   1.11771048e-19 4.35536474e-20]\n",
            "  [3.97793506e-17 5.58462161e-05 3.37742079e-17 ... 2.49806063e-17\n",
            "   2.78900057e-17 1.47118075e-17]]\n",
            "\n",
            " [[9.13124975e-29 3.17547695e-08 4.33384763e-29 ... 2.70512960e-29\n",
            "   3.14049630e-29 9.94740830e-29]\n",
            "  [1.01835980e-34 7.83914322e-10 5.60853437e-35 ... 6.94773755e-35\n",
            "   6.00506283e-35 3.24978672e-35]\n",
            "  [0.00000000e+00 1.01780517e-09 0.00000000e+00 ... 0.00000000e+00\n",
            "   0.00000000e+00 0.00000000e+00]\n",
            "  ...\n",
            "  [1.01768064e-17 1.39627364e-05 6.60171854e-18 ... 1.24792578e-17\n",
            "   3.79979311e-18 7.55673413e-18]\n",
            "  [3.26845140e-25 3.78035114e-09 1.22500792e-25 ... 6.27937102e-26\n",
            "   1.74980972e-25 2.86705481e-25]\n",
            "  [6.53299572e-17 8.54033628e-04 3.21046696e-17 ... 1.08357914e-16\n",
            "   5.00672936e-17 4.01559924e-17]]\n",
            "\n",
            " [[7.21514113e-17 4.44216712e-05 4.15503727e-16 ... 2.35857198e-16\n",
            "   4.71425875e-16 1.34857267e-16]\n",
            "  [6.74379795e-22 1.74481795e-06 5.05121799e-22 ... 1.60196357e-22\n",
            "   1.71684747e-22 2.57539634e-22]\n",
            "  [2.20190665e-27 1.15700928e-03 1.56568691e-26 ... 2.86183233e-27\n",
            "   2.70493379e-26 3.78092712e-27]\n",
            "  ...\n",
            "  [2.91933902e-16 1.84617588e-09 1.68462809e-16 ... 1.95660468e-16\n",
            "   1.94803258e-16 1.94013452e-16]\n",
            "  [7.39948461e-17 2.91064178e-04 2.14689447e-16 ... 1.05669762e-16\n",
            "   1.81460292e-16 4.52635613e-17]\n",
            "  [3.48205622e-12 6.58552235e-05 3.11276937e-12 ... 3.52203314e-12\n",
            "   3.37224107e-12 2.38279513e-12]]]\n"
          ],
          "name": "stdout"
        }
      ]
    },
    {
      "cell_type": "code",
      "metadata": {
        "id": "-puDbuAA-PAh",
        "colab_type": "code",
        "colab": {}
      },
      "source": [
        "pred_img=np.argmax(pred_img,axis=-1)"
      ],
      "execution_count": 0,
      "outputs": []
    },
    {
      "cell_type": "code",
      "metadata": {
        "id": "AzYA-mKE-frX",
        "colab_type": "code",
        "colab": {
          "base_uri": "https://localhost:8080/",
          "height": 263
        },
        "outputId": "9047f503-e2ca-47d1-efa2-7ad3527f9d85"
      },
      "source": [
        "print(pred_img)\n",
        "pred_img=pred_img.reshape(128,128)\n",
        "pred_img=pred_img/255\n",
        "print(pred_img)"
      ],
      "execution_count": 181,
      "outputs": [
        {
          "output_type": "stream",
          "text": [
            "[[195 195 195 ... 195 195 194]\n",
            " [195 195 195 ... 195 195 194]\n",
            " [194 111 195 ... 121 194 120]\n",
            " ...\n",
            " [111 111 111 ... 194 194 194]\n",
            " [194 194 194 ... 195 175 194]\n",
            " [ 61 195 195 ... 194  31  36]]\n",
            "[[0.76470588 0.76470588 0.76470588 ... 0.76470588 0.76470588 0.76078431]\n",
            " [0.76470588 0.76470588 0.76470588 ... 0.76470588 0.76470588 0.76078431]\n",
            " [0.76078431 0.43529412 0.76470588 ... 0.4745098  0.76078431 0.47058824]\n",
            " ...\n",
            " [0.43529412 0.43529412 0.43529412 ... 0.76078431 0.76078431 0.76078431]\n",
            " [0.76078431 0.76078431 0.76078431 ... 0.76470588 0.68627451 0.76078431]\n",
            " [0.23921569 0.76470588 0.76470588 ... 0.76078431 0.12156863 0.14117647]]\n"
          ],
          "name": "stdout"
        }
      ]
    },
    {
      "cell_type": "code",
      "metadata": {
        "id": "HLB2h6jM-sIg",
        "colab_type": "code",
        "colab": {
          "base_uri": "https://localhost:8080/",
          "height": 269
        },
        "outputId": "2a12d244-ca5a-47a4-c75e-45af6e015ab6"
      },
      "source": [
        "plt.imshow(pred_img, cmap='gray')\n",
        "plt.show()"
      ],
      "execution_count": 182,
      "outputs": [
        {
          "output_type": "display_data",
          "data": {
            "image/png": "[encoded data removed]",
            "text/plain": [
              "<Figure size 432x288 with 1 Axes>"
            ]
          },
          "metadata": {
            "tags": []
          }
        }
      ]
    },
    {
      "cell_type": "code",
      "metadata": {
        "id": "M5n4HUMz-_xN",
        "colab_type": "code",
        "colab": {
          "base_uri": "https://localhost:8080/",
          "height": 35
        },
        "outputId": "fd2d165a-31fb-4b8b-cfab-e1ae7d6c88e7"
      },
      "source": [
        "colormap = [[\"#000000\",\"0\",\"0\"],\n",
        " [\"#ffd300\",\"1\",\"1\"],\n",
        " [\"#ff2626\",\"2\",\"2\"],\n",
        " [\"#00a8e2\",\"3\",\"3\"],\n",
        " [\"#ff9e0a\",\"4\",\"4\"],\n",
        " [\"#267000\",\"5\",\"5\"],\n",
        " [\"#ffff00\",\"6\",\"6\"],\n",
        " [\"#000000\",\"7\",\"7\"],\n",
        " [\"#000000\",\"8\",\"8\"],\n",
        " [\"#000000\",\"9\",\"9\"],\n",
        " [\"#70a500\",\"10\",\"10\"],\n",
        " [\"#00af49\",\"11\",\"11\"],\n",
        " [\"#dda50a\",\"12\",\"12\"],\n",
        " [\"#dda50a\",\"13\",\"13\"],\n",
        " [\"#7cd3ff\",\"14\",\"14\"],\n",
        " [\"#000000\",\"15\",\"15\"],\n",
        " [\"#000000\",\"16\",\"16\"],\n",
        " [\"#000000\",\"17\",\"17\"],\n",
        " [\"#000000\",\"18\",\"18\"],\n",
        " [\"#000000\",\"19\",\"19\"],\n",
        " [\"#000000\",\"20\",\"20\"],\n",
        " [\"#e2007c\",\"21\",\"21\"],\n",
        " [\"#896054\",\"22\",\"22\"],\n",
        " [\"#d8b56b\",\"23\",\"23\"],\n",
        " [\"#a57000\",\"24\",\"24\"],\n",
        " [\"#d69ebc\",\"25\",\"25\"],\n",
        " [\"#707000\",\"26\",\"26\"],\n",
        " [\"#aa007c\",\"27\",\"27\"],\n",
        " [\"#a05989\",\"28\",\"28\"],\n",
        " [\"#700049\",\"29\",\"29\"],\n",
        " [\"#d69ebc\",\"30\",\"30\"],\n",
        " [\"#d1ff00\",\"31\",\"31\"],\n",
        " [\"#7c99ff\",\"32\",\"32\"],\n",
        " [\"#d6d600\",\"33\",\"33\"],\n",
        " [\"#d1ff00\",\"34\",\"34\"],\n",
        " [\"#00af49\",\"35\",\"35\"],\n",
        " [\"#ffa5e2\",\"36\",\"36\"],\n",
        " [\"#a5f28c\",\"37\",\"37\"],\n",
        " [\"#00af49\",\"38\",\"38\"],\n",
        " [\"#d69ebc\",\"39\",\"39\"],\n",
        " [\"#000000\",\"40\",\"40\"],\n",
        " [\"#a800e2\",\"41\",\"41\"],\n",
        " [\"#a50000\",\"42\",\"42\"],\n",
        " [\"#702600\",\"43\",\"43\"],\n",
        " [\"#00af49\",\"44\",\"44\"],\n",
        " [\"#af7cff\",\"45\",\"45\"],\n",
        " [\"#702600\",\"46\",\"46\"],\n",
        " [\"#ff6666\",\"47\",\"47\"],\n",
        " [\"#ff6666\",\"48\",\"48\"],\n",
        " [\"#ffcc66\",\"49\",\"49\"],\n",
        " [\"#ff6666\",\"50\",\"50\"],\n",
        " [\"#00af49\",\"51\",\"51\"],\n",
        " [\"#00ddaf\",\"52\",\"52\"],\n",
        " [\"#54ff00\",\"53\",\"53\"],\n",
        " [\"#f2a377\",\"54\",\"54\"],\n",
        " [\"#ff6666\",\"55\",\"55\"],\n",
        " [\"#00af49\",\"56\",\"56\"],\n",
        " [\"#7cd3ff\",\"57\",\"57\"],\n",
        " [\"#e8bfff\",\"58\",\"58\"],\n",
        " [\"#afffdd\",\"59\",\"59\"],\n",
        " [\"#00af49\",\"60\",\"60\"],\n",
        " [\"#bfbf77\",\"61\",\"61\"],\n",
        " [\"#000000\",\"62\",\"62\"],\n",
        " [\"#93cc93\",\"63\",\"63\"],\n",
        " [\"#c6d69e\",\"64\",\"64\"],\n",
        " [\"#ccbfa3\",\"65\",\"65\"],\n",
        " [\"#ff00ff\",\"66\",\"66\"],\n",
        " [\"#ff8eaa\",\"67\",\"67\"],\n",
        " [\"#ba004f\",\"68\",\"68\"],\n",
        " [\"#704489\",\"69\",\"69\"],\n",
        " [\"#007777\",\"70\",\"70\"],\n",
        " [\"#af9970\",\"71\",\"71\"],\n",
        " [\"#ffff7c\",\"72\",\"72\"],\n",
        " [\"#000000\",\"73\",\"73\"],\n",
        " [\"#b5705b\",\"74\",\"74\"],\n",
        " [\"#00a582\",\"75\",\"75\"],\n",
        " [\"#e8d6af\",\"76\",\"76\"],\n",
        " [\"#af9970\",\"77\",\"77\"],\n",
        " [\"#000000\",\"78\",\"78\"],\n",
        " [\"#000000\",\"79\",\"79\"],\n",
        " [\"#000000\",\"80\",\"80\"],\n",
        " [\"#f2f2f2\",\"81\",\"81\"],\n",
        " [\"#999999\",\"82\",\"82\"],\n",
        " [\"#4970a3\",\"83\",\"83\"],\n",
        " [\"#000000\",\"84\",\"84\"],\n",
        " [\"#000000\",\"85\",\"85\"],\n",
        " [\"#000000\",\"86\",\"86\"],\n",
        " [\"#7cafaf\",\"87\",\"87\"],\n",
        " [\"#e8ffbf\",\"88\",\"88\"],\n",
        " [\"#000000\",\"89\",\"89\"],\n",
        " [\"#000000\",\"90\",\"90\"],\n",
        " [\"#000000\",\"91\",\"91\"],\n",
        " [\"#00ffff\",\"92\",\"92\"],\n",
        " [\"#000000\",\"93\",\"93\"],\n",
        " [\"#000000\",\"94\",\"94\"],\n",
        " [\"#000000\",\"95\",\"95\"],\n",
        " [\"#000000\",\"96\",\"96\"],\n",
        " [\"#000000\",\"97\",\"97\"],\n",
        " [\"#000000\",\"98\",\"98\"],\n",
        " [\"#000000\",\"99\",\"99\"],\n",
        " [\"#000000\",\"100\",\"100\"],\n",
        " [\"#000000\",\"101\",\"101\"],\n",
        " [\"#000000\",\"102\",\"102\"],\n",
        " [\"#000000\",\"103\",\"103\"],\n",
        " [\"#000000\",\"104\",\"104\"],\n",
        " [\"#000000\",\"105\",\"105\"],\n",
        " [\"#000000\",\"106\",\"106\"],\n",
        " [\"#000000\",\"107\",\"107\"],\n",
        " [\"#000000\",\"108\",\"108\"],\n",
        " [\"#000000\",\"109\",\"109\"],\n",
        " [\"#000000\",\"110\",\"110\"],\n",
        " [\"#4970a3\",\"111\",\"111\"],\n",
        " [\"#d3e2f9\",\"112\",\"112\"],\n",
        " [\"#000000\",\"113\",\"113\"],\n",
        " [\"#000000\",\"114\",\"114\"],\n",
        " [\"#000000\",\"115\",\"115\"],\n",
        " [\"#000000\",\"116\",\"116\"],\n",
        " [\"#000000\",\"117\",\"117\"],\n",
        " [\"#000000\",\"118\",\"118\"],\n",
        " [\"#000000\",\"119\",\"119\"],\n",
        " [\"#000000\",\"120\",\"120\"],\n",
        " [\"#999999\",\"121\",\"121\"],\n",
        " [\"#999999\",\"122\",\"122\"],\n",
        " [\"#999999\",\"123\",\"123\"],\n",
        " [\"#999999\",\"124\",\"124\"],\n",
        " [\"#000000\",\"125\",\"125\"],\n",
        " [\"#000000\",\"126\",\"126\"],\n",
        " [\"#000000\",\"127\",\"127\"],\n",
        " [\"#000000\",\"128\",\"128\"],\n",
        " [\"#000000\",\"129\",\"129\"],\n",
        " [\"#000000\",\"130\",\"130\"],\n",
        " [\"#ccbfa3\",\"131\",\"131\"],\n",
        " [\"#000000\",\"132\",\"132\"],\n",
        " [\"#000000\",\"133\",\"133\"],\n",
        " [\"#000000\",\"134\",\"134\"],\n",
        " [\"#000000\",\"135\",\"135\"],\n",
        " [\"#000000\",\"136\",\"136\"],\n",
        " [\"#000000\",\"137\",\"137\"],\n",
        " [\"#000000\",\"138\",\"138\"],\n",
        " [\"#000000\",\"139\",\"139\"],\n",
        " [\"#000000\",\"140\",\"140\"],\n",
        " [\"#93cc93\",\"141\",\"141\"],\n",
        " [\"#93cc93\",\"142\",\"142\"],\n",
        " [\"#93cc93\",\"143\",\"143\"],\n",
        " [\"#000000\",\"144\",\"144\"],\n",
        " [\"#000000\",\"145\",\"145\"],\n",
        " [\"#000000\",\"146\",\"146\"],\n",
        " [\"#000000\",\"147\",\"147\"],\n",
        " [\"#000000\",\"148\",\"148\"],\n",
        " [\"#000000\",\"149\",\"149\"],\n",
        " [\"#000000\",\"150\",\"150\"],\n",
        " [\"#000000\",\"151\",\"151\"],\n",
        " [\"#c6d69e\",\"152\",\"152\"],\n",
        " [\"#000000\",\"153\",\"153\"],\n",
        " [\"#000000\",\"154\",\"154\"],\n",
        " [\"#000000\",\"155\",\"155\"],\n",
        " [\"#000000\",\"156\",\"156\"],\n",
        " [\"#000000\",\"157\",\"157\"],\n",
        " [\"#000000\",\"158\",\"158\"],\n",
        " [\"#000000\",\"159\",\"159\"],\n",
        " [\"#000000\",\"160\",\"160\"],\n",
        " [\"#000000\",\"161\",\"161\"],\n",
        " [\"#000000\",\"162\",\"162\"],\n",
        " [\"#000000\",\"163\",\"163\"],\n",
        " [\"#000000\",\"164\",\"164\"],\n",
        " [\"#000000\",\"165\",\"165\"],\n",
        " [\"#000000\",\"166\",\"166\"],\n",
        " [\"#000000\",\"167\",\"167\"],\n",
        " [\"#000000\",\"168\",\"168\"],\n",
        " [\"#000000\",\"169\",\"169\"],\n",
        " [\"#000000\",\"170\",\"170\"],\n",
        " [\"#000000\",\"171\",\"171\"],\n",
        " [\"#000000\",\"172\",\"172\"],\n",
        " [\"#000000\",\"173\",\"173\"],\n",
        " [\"#000000\",\"174\",\"174\"],\n",
        " [\"#000000\",\"175\",\"175\"],\n",
        " [\"#e8ffbf\",\"176\",\"176\"],\n",
        " [\"#000000\",\"177\",\"177\"],\n",
        " [\"#000000\",\"178\",\"178\"],\n",
        " [\"#000000\",\"179\",\"179\"],\n",
        " [\"#000000\",\"180\",\"180\"],\n",
        " [\"#000000\",\"181\",\"181\"],\n",
        " [\"#000000\",\"182\",\"182\"],\n",
        " [\"#000000\",\"183\",\"183\"],\n",
        " [\"#000000\",\"184\",\"184\"],\n",
        " [\"#000000\",\"185\",\"185\"],\n",
        " [\"#000000\",\"186\",\"186\"],\n",
        " [\"#000000\",\"187\",\"187\"],\n",
        " [\"#000000\",\"188\",\"188\"],\n",
        " [\"#000000\",\"189\",\"189\"],\n",
        " [\"#7cafaf\",\"190\",\"190\"],\n",
        " [\"#000000\",\"191\",\"191\"],\n",
        " [\"#000000\",\"192\",\"192\"],\n",
        " [\"#000000\",\"193\",\"193\"],\n",
        " [\"#000000\",\"194\",\"194\"],\n",
        " [\"#7cafaf\",\"195\",\"195\"],\n",
        " [\"#000000\",\"196\",\"196\"],\n",
        " [\"#000000\",\"197\",\"197\"],\n",
        " [\"#000000\",\"198\",\"198\"],\n",
        " [\"#000000\",\"199\",\"199\"],\n",
        " [\"#000000\",\"200\",\"200\"],\n",
        " [\"#000000\",\"201\",\"201\"],\n",
        " [\"#000000\",\"202\",\"202\"],\n",
        " [\"#000000\",\"203\",\"203\"],\n",
        " [\"#00ff8c\",\"204\",\"204\"],\n",
        " [\"#d69ebc\",\"205\",\"205\"],\n",
        " [\"#ff6666\",\"206\",\"206\"],\n",
        " [\"#ff6666\",\"207\",\"207\"],\n",
        " [\"#ff6666\",\"208\",\"208\"],\n",
        " [\"#ff6666\",\"209\",\"209\"],\n",
        " [\"#ff8eaa\",\"210\",\"210\"],\n",
        " [\"#334933\",\"211\",\"211\"],\n",
        " [\"#e27026\",\"212\",\"212\"],\n",
        " [\"#ff6666\",\"213\",\"213\"],\n",
        " [\"#ff6666\",\"214\",\"214\"],\n",
        " [\"#000000\",\"215\",\"215\"],\n",
        " [\"#ff6666\",\"216\",\"216\"],\n",
        " [\"#af9970\",\"217\",\"217\"],\n",
        " [\"#ff8eaa\",\"218\",\"218\"],\n",
        " [\"#ff6666\",\"219\",\"219\"],\n",
        " [\"#ff8eaa\",\"220\",\"220\"],\n",
        " [\"#ff6666\",\"221\",\"221\"],\n",
        " [\"#ff6666\",\"222\",\"222\"],\n",
        " [\"#ff8eaa\",\"223\",\"223\"],\n",
        " [\"#00af49\",\"224\",\"224\"],\n",
        " [\"#ffd300\",\"225\",\"225\"],\n",
        " [\"#ffd300\",\"226\",\"226\"],\n",
        " [\"#ff6666\",\"227\",\"227\"],\n",
        " [\"#000000\",\"228\",\"228\"],\n",
        " [\"#ff6666\",\"229\",\"229\"],\n",
        " [\"#896054\",\"230\",\"230\"],\n",
        " [\"#ff6666\",\"231\",\"231\"],\n",
        " [\"#ff2626\",\"232\",\"232\"],\n",
        " [\"#e2007c\",\"233\",\"233\"],\n",
        " [\"#ff9e0a\",\"234\",\"234\"],\n",
        " [\"#ff9e0a\",\"235\",\"235\"],\n",
        " [\"#a57000\",\"236\",\"236\"],\n",
        " [\"#ffd300\",\"237\",\"237\"],\n",
        " [\"#a57000\",\"238\",\"238\"],\n",
        " [\"#267000\",\"239\",\"239\"],\n",
        " [\"#267000\",\"240\",\"240\"],\n",
        " [\"#ffd300\",\"241\",\"241\"],\n",
        " [\"#000099\",\"242\",\"242\"],\n",
        " [\"#ff6666\",\"243\",\"243\"],\n",
        " [\"#ff6666\",\"244\",\"244\"],\n",
        " [\"#ff6666\",\"245\",\"245\"],\n",
        " [\"#ff6666\",\"246\",\"246\"],\n",
        " [\"#ff6666\",\"247\",\"247\"],\n",
        " [\"#ff6666\",\"248\",\"248\"],\n",
        " [\"#ff6666\",\"249\",\"249\"],\n",
        " [\"#ff6666\",\"250\",\"250\"],\n",
        " [\"#ffd300\",\"251\",\"251\"],\n",
        " [\"#267000\",\"252\",\"252\"],\n",
        " [\"#a57000\",\"253\",\"253\"],\n",
        " [\"#267000\",\"254\",\"254\"],\n",
        " [\"#707000\",\"255\",\"255\"]]\n",
        "\n",
        "\n",
        "def hex_to_rgb(value):\n",
        " value = value.lstrip('#')\n",
        " lv = len(value)\n",
        " return tuple(int(value[i:i + lv // 3], 16) for i in range(0, lv, lv // 3))\n",
        "\n",
        "\n",
        "def getCDLRGB(cdlvalue):\n",
        " # print(\"get cdl:\", cdlvalue)\n",
        " for x in range(len(colormap)):\n",
        "   if(int(colormap[x][1])==cdlvalue):\n",
        "    hex = colormap[x][0]\n",
        "    rgb = hex_to_rgb(hex)\n",
        "    return rgb\n",
        "\n",
        "print(\"The color of class 5 is: \", getCDLRGB(5))"
      ],
      "execution_count": 183,
      "outputs": [
        {
          "output_type": "stream",
          "text": [
            "The color of class 5 is:  (38, 112, 0)\n"
          ],
          "name": "stdout"
        }
      ]
    },
    {
      "cell_type": "code",
      "metadata": {
        "id": "yZ1108aH_Nad",
        "colab_type": "code",
        "colab": {}
      },
      "source": [
        "label_colours=[np.array(getCDLRGB(i)) for i in range(0,256)]\n",
        "\n",
        "label_colours=np.array(label_colours)\n",
        "def view_mapped(temp, plot=True):\n",
        "    r = temp.copy()\n",
        "    g = temp.copy()\n",
        "    b = temp.copy()\n",
        "    for l in range(0,256):\n",
        "        r[temp==l]=label_colours[l,0]\n",
        "        g[temp==l]=label_colours[l,1]\n",
        "        b[temp==l]=label_colours[l,2]\n",
        "\n",
        "    rgb = np.zeros((temp.shape[0], temp.shape[1], 3))\n",
        "    rgb[:,:,0] = (r/255.0)#[:,:,0]\n",
        "    rgb[:,:,1] = (g/255.0)#[:,:,1]\n",
        "    rgb[:,:,2] = (b/255.0)#[:,:,2]\n",
        "    if plot:\n",
        "        plt.imshow(rgb)\n",
        "        plt.show()"
      ],
      "execution_count": 0,
      "outputs": []
    },
    {
      "cell_type": "code",
      "metadata": {
        "id": "BQxBxE6J_lk0",
        "colab_type": "code",
        "colab": {
          "base_uri": "https://localhost:8080/",
          "height": 521
        },
        "outputId": "c428c745-4faa-4281-e21d-f2d55a00c8ae"
      },
      "source": [
        "view_mapped(true_img*255)\n",
        "view_mapped(pred_img*255)"
      ],
      "execution_count": 185,
      "outputs": [
        {
          "output_type": "display_data",
          "data": {
            "image/png": "[encoded data removed]",
            "text/plain": [
              "<Figure size 432x288 with 1 Axes>"
            ]
          },
          "metadata": {
            "tags": []
          }
        },
        {
          "output_type": "display_data",
          "data": {
            "image/png": "[encoded data removed]",
            "text/plain": [
              "<Figure size 432x288 with 1 Axes>"
            ]
          },
          "metadata": {
            "tags": []
          }
        }
      ]
    },
    {
      "cell_type": "code",
      "metadata": {
        "id": "QrlL_1O6A7rn",
        "colab_type": "code",
        "colab": {}
      },
      "source": [
        ""
      ],
      "execution_count": 0,
      "outputs": []
    }
  ]
}